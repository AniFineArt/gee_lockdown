{
 "cells": [
  {
   "cell_type": "code",
   "execution_count": 1,
   "metadata": {},
   "outputs": [],
   "source": [
    "from IPython.display import Image\n",
    "import ee, folium\n",
    "ee.Initialize()"
   ]
  },
  {
   "cell_type": "code",
   "execution_count": 15,
   "metadata": {},
   "outputs": [],
   "source": [
    "area_of_interest = ee.Geometry.Rectangle([60, 5, 100,40])\n",
    "mexico_landcover_2010_landsat = ee.Image(\"users/renekope/MEX_LC_2010_Landsat_v43\").clip(area_of_interest)\n",
    "landsat8_collection = ee.ImageCollection('LANDSAT/LC8_L1T_TOA').filterDate('2016-01-01', '2018-04-19').min()\n",
    "landsat8_collection = landsat8_collection.slice(0,9)"
   ]
  },
  {
   "cell_type": "code",
   "execution_count": 16,
   "metadata": {},
   "outputs": [],
   "source": [
    "image = landsat8_collection.clip(area_of_interest)"
   ]
  },
  {
   "cell_type": "code",
   "execution_count": 17,
   "metadata": {},
   "outputs": [],
   "source": [
    "band_arrs = image.sampleRectangle(region=area_of_interest)"
   ]
  },
  {
   "cell_type": "code",
   "execution_count": 18,
   "metadata": {},
   "outputs": [],
   "source": [
    "# Get individual band arrays.\n",
    "band_arr_b4 = band_arrs.get('B4')\n",
    "band_arr_b5 = band_arrs.get('B5')\n",
    "band_arr_b6 = band_arrs.get('B6')"
   ]
  },
  {
   "cell_type": "code",
   "execution_count": 20,
   "metadata": {},
   "outputs": [],
   "source": [
    "# import numpy as np\n",
    "# # Transfer the arrays from server to client and cast as np array.\n",
    "# np_arr_b4 = np.array(band_arr_b4.getInfo())\n",
    "# np_arr_b5 = np.array(band_arr_b5.getInfo())\n",
    "# np_arr_b6 = np.array(band_arr_b6.getInfo())\n",
    "# print(np_arr_b4.shape)\n",
    "# print(np_arr_b5.shape)\n",
    "# print(np_arr_b6.shape)"
   ]
  },
  {
   "cell_type": "code",
   "execution_count": 11,
   "metadata": {},
   "outputs": [
    {
     "name": "stdout",
     "output_type": "stream",
     "text": [
      "(2, 1, 1)\n",
      "(2, 1, 1)\n",
      "(2, 1, 1)\n"
     ]
    }
   ],
   "source": [
    "# Expand the dimensions of the images so they can be concatenated into 3-D.\n",
    "np_arr_b4 = np.expand_dims(np_arr_b4, 2)\n",
    "np_arr_b5 = np.expand_dims(np_arr_b5, 2)\n",
    "np_arr_b6 = np.expand_dims(np_arr_b6, 2)\n",
    "print(np_arr_b4.shape)\n",
    "print(np_arr_b5.shape)\n",
    "print(np_arr_b6.shape)"
   ]
  },
  {
   "cell_type": "code",
   "execution_count": 13,
   "metadata": {},
   "outputs": [
    {
     "name": "stdout",
     "output_type": "stream",
     "text": [
      "(2, 1, 3)\n"
     ]
    },
    {
     "data": {
      "image/png": "[encoded data removed]",
      "text/plain": [
       "<Figure size 432x288 with 1 Axes>"
      ]
     },
     "metadata": {
      "needs_background": "light"
     },
     "output_type": "display_data"
    }
   ],
   "source": [
    "import matplotlib.pyplot as plt\n",
    "# Stack the individual bands to make a 3-D array.\n",
    "rgb_img = np.concatenate((np_arr_b6, np_arr_b5, np_arr_b4), 2)\n",
    "print(rgb_img.shape)\n",
    "\n",
    "# Scale the data to [0, 255] to show as an RGB image.\n",
    "rgb_img_test = (255*((rgb_img - 100)/3500)).astype('uint8')\n",
    "plt.imshow(rgb_img_test)\n",
    "plt.show()"
   ]
  },
  {
   "cell_type": "code",
   "execution_count": null,
   "metadata": {},
   "outputs": [],
   "source": []
  },
  {
   "cell_type": "code",
   "execution_count": null,
   "metadata": {},
   "outputs": [],
   "source": []
  }
 ],
 "metadata": {
  "kernelspec": {
   "display_name": "Python 3",
   "language": "python",
   "name": "python3"
  },
  "language_info": {
   "codemirror_mode": {
    "name": "ipython",
    "version": 3
   },
   "file_extension": ".py",
   "mimetype": "text/x-python",
   "name": "python",
   "nbconvert_exporter": "python",
   "pygments_lexer": "ipython3",
   "version": "3.6.10"
  }
 },
 "nbformat": 4,
 "nbformat_minor": 4
}
